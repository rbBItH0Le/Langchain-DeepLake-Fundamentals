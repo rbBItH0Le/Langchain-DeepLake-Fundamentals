{
  "cells": [
    {
      "cell_type": "code",
      "source": [
        "!pip install langchain"
      ],
      "metadata": {
        "colab": {
          "base_uri": "https://localhost:8080/"
        },
        "id": "MFKLZGLKYkFU",
        "outputId": "188f7d2c-05b1-4f38-ea89-bd5d6d69e6d4"
      },
      "id": "MFKLZGLKYkFU",
      "execution_count": 1,
      "outputs": [
        {
          "output_type": "stream",
          "name": "stdout",
          "text": [
            "Collecting langchain\n",
            "  Downloading langchain-0.0.315-py3-none-any.whl (1.9 MB)\n",
            "\u001b[?25l     \u001b[90m━━━━━━━━━━━━━━━━━━━━━━━━━━━━━━━━━━━━━━━━\u001b[0m \u001b[32m0.0/1.9 MB\u001b[0m \u001b[31m?\u001b[0m eta \u001b[36m-:--:--\u001b[0m\r\u001b[2K     \u001b[91m━\u001b[0m\u001b[90m╺\u001b[0m\u001b[90m━━━━━━━━━━━━━━━━━━━━━━━━━━━━━━━━━━━━━━\u001b[0m \u001b[32m0.1/1.9 MB\u001b[0m \u001b[31m1.8 MB/s\u001b[0m eta \u001b[36m0:00:01\u001b[0m\r\u001b[2K     \u001b[91m━━━━━━━━━━━━━━━━━━━━━━━━━━━━━━━━━━━━━━━\u001b[0m\u001b[91m╸\u001b[0m \u001b[32m1.9/1.9 MB\u001b[0m \u001b[31m25.7 MB/s\u001b[0m eta \u001b[36m0:00:01\u001b[0m\r\u001b[2K     \u001b[90m━━━━━━━━━━━━━━━━━━━━━━━━━━━━━━━━━━━━━━━━\u001b[0m \u001b[32m1.9/1.9 MB\u001b[0m \u001b[31m21.5 MB/s\u001b[0m eta \u001b[36m0:00:00\u001b[0m\n",
            "\u001b[?25hRequirement already satisfied: PyYAML>=5.3 in /usr/local/lib/python3.10/dist-packages (from langchain) (6.0.1)\n",
            "Requirement already satisfied: SQLAlchemy<3,>=1.4 in /usr/local/lib/python3.10/dist-packages (from langchain) (2.0.21)\n",
            "Requirement already satisfied: aiohttp<4.0.0,>=3.8.3 in /usr/local/lib/python3.10/dist-packages (from langchain) (3.8.6)\n",
            "Requirement already satisfied: anyio<4.0 in /usr/local/lib/python3.10/dist-packages (from langchain) (3.7.1)\n",
            "Requirement already satisfied: async-timeout<5.0.0,>=4.0.0 in /usr/local/lib/python3.10/dist-packages (from langchain) (4.0.3)\n",
            "Collecting dataclasses-json<0.7,>=0.5.7 (from langchain)\n",
            "  Downloading dataclasses_json-0.6.1-py3-none-any.whl (27 kB)\n",
            "Collecting jsonpatch<2.0,>=1.33 (from langchain)\n",
            "  Downloading jsonpatch-1.33-py2.py3-none-any.whl (12 kB)\n",
            "Collecting langsmith<0.1.0,>=0.0.43 (from langchain)\n",
            "  Downloading langsmith-0.0.44-py3-none-any.whl (40 kB)\n",
            "\u001b[2K     \u001b[90m━━━━━━━━━━━━━━━━━━━━━━━━━━━━━━━━━━━━━━━━\u001b[0m \u001b[32m40.1/40.1 kB\u001b[0m \u001b[31m5.7 MB/s\u001b[0m eta \u001b[36m0:00:00\u001b[0m\n",
            "\u001b[?25hRequirement already satisfied: numpy<2,>=1 in /usr/local/lib/python3.10/dist-packages (from langchain) (1.23.5)\n",
            "Requirement already satisfied: pydantic<3,>=1 in /usr/local/lib/python3.10/dist-packages (from langchain) (1.10.13)\n",
            "Requirement already satisfied: requests<3,>=2 in /usr/local/lib/python3.10/dist-packages (from langchain) (2.31.0)\n",
            "Requirement already satisfied: tenacity<9.0.0,>=8.1.0 in /usr/local/lib/python3.10/dist-packages (from langchain) (8.2.3)\n",
            "Requirement already satisfied: attrs>=17.3.0 in /usr/local/lib/python3.10/dist-packages (from aiohttp<4.0.0,>=3.8.3->langchain) (23.1.0)\n",
            "Requirement already satisfied: charset-normalizer<4.0,>=2.0 in /usr/local/lib/python3.10/dist-packages (from aiohttp<4.0.0,>=3.8.3->langchain) (3.3.0)\n",
            "Requirement already satisfied: multidict<7.0,>=4.5 in /usr/local/lib/python3.10/dist-packages (from aiohttp<4.0.0,>=3.8.3->langchain) (6.0.4)\n",
            "Requirement already satisfied: yarl<2.0,>=1.0 in /usr/local/lib/python3.10/dist-packages (from aiohttp<4.0.0,>=3.8.3->langchain) (1.9.2)\n",
            "Requirement already satisfied: frozenlist>=1.1.1 in /usr/local/lib/python3.10/dist-packages (from aiohttp<4.0.0,>=3.8.3->langchain) (1.4.0)\n",
            "Requirement already satisfied: aiosignal>=1.1.2 in /usr/local/lib/python3.10/dist-packages (from aiohttp<4.0.0,>=3.8.3->langchain) (1.3.1)\n",
            "Requirement already satisfied: idna>=2.8 in /usr/local/lib/python3.10/dist-packages (from anyio<4.0->langchain) (3.4)\n",
            "Requirement already satisfied: sniffio>=1.1 in /usr/local/lib/python3.10/dist-packages (from anyio<4.0->langchain) (1.3.0)\n",
            "Requirement already satisfied: exceptiongroup in /usr/local/lib/python3.10/dist-packages (from anyio<4.0->langchain) (1.1.3)\n",
            "Collecting marshmallow<4.0.0,>=3.18.0 (from dataclasses-json<0.7,>=0.5.7->langchain)\n",
            "  Downloading marshmallow-3.20.1-py3-none-any.whl (49 kB)\n",
            "\u001b[2K     \u001b[90m━━━━━━━━━━━━━━━━━━━━━━━━━━━━━━━━━━━━━━━━\u001b[0m \u001b[32m49.4/49.4 kB\u001b[0m \u001b[31m5.4 MB/s\u001b[0m eta \u001b[36m0:00:00\u001b[0m\n",
            "\u001b[?25hCollecting typing-inspect<1,>=0.4.0 (from dataclasses-json<0.7,>=0.5.7->langchain)\n",
            "  Downloading typing_inspect-0.9.0-py3-none-any.whl (8.8 kB)\n",
            "Collecting jsonpointer>=1.9 (from jsonpatch<2.0,>=1.33->langchain)\n",
            "  Downloading jsonpointer-2.4-py2.py3-none-any.whl (7.8 kB)\n",
            "Requirement already satisfied: typing-extensions>=4.2.0 in /usr/local/lib/python3.10/dist-packages (from pydantic<3,>=1->langchain) (4.5.0)\n",
            "Requirement already satisfied: urllib3<3,>=1.21.1 in /usr/local/lib/python3.10/dist-packages (from requests<3,>=2->langchain) (2.0.6)\n",
            "Requirement already satisfied: certifi>=2017.4.17 in /usr/local/lib/python3.10/dist-packages (from requests<3,>=2->langchain) (2023.7.22)\n",
            "Requirement already satisfied: greenlet!=0.4.17 in /usr/local/lib/python3.10/dist-packages (from SQLAlchemy<3,>=1.4->langchain) (3.0.0)\n",
            "Requirement already satisfied: packaging>=17.0 in /usr/local/lib/python3.10/dist-packages (from marshmallow<4.0.0,>=3.18.0->dataclasses-json<0.7,>=0.5.7->langchain) (23.2)\n",
            "Collecting mypy-extensions>=0.3.0 (from typing-inspect<1,>=0.4.0->dataclasses-json<0.7,>=0.5.7->langchain)\n",
            "  Downloading mypy_extensions-1.0.0-py3-none-any.whl (4.7 kB)\n",
            "Installing collected packages: mypy-extensions, marshmallow, jsonpointer, typing-inspect, langsmith, jsonpatch, dataclasses-json, langchain\n",
            "Successfully installed dataclasses-json-0.6.1 jsonpatch-1.33 jsonpointer-2.4 langchain-0.0.315 langsmith-0.0.44 marshmallow-3.20.1 mypy-extensions-1.0.0 typing-inspect-0.9.0\n"
          ]
        }
      ]
    },
    {
      "cell_type": "code",
      "execution_count": 3,
      "id": "3cde30a6-5b0b-475f-9460-809e174cac97",
      "metadata": {
        "id": "3cde30a6-5b0b-475f-9460-809e174cac97"
      },
      "outputs": [],
      "source": [
        "from langchain.prompts import (\n",
        "    ChatPromptTemplate,\n",
        "    PromptTemplate,\n",
        "    SystemMessagePromptTemplate,\n",
        "    AIMessagePromptTemplate,\n",
        "    HumanMessagePromptTemplate,\n",
        ")\n",
        "from datetime import datetime\n",
        "from langchain.llms import OpenAI\n",
        "from langchain.output_parsers import DatetimeOutputParser\n",
        "from langchain.chat_models import ChatOpenAI"
      ]
    },
    {
      "cell_type": "code",
      "execution_count": 8,
      "id": "c1e1fce6-7f28-4d74-a92b-0424c6abcd30",
      "metadata": {
        "id": "c1e1fce6-7f28-4d74-a92b-0424c6abcd30"
      },
      "outputs": [],
      "source": [
        "class HistoryQuiz():\n",
        "\n",
        "    def create_history_question(self,topic):\n",
        "      system_prompt=\"You write single quiz question about {topic}. You only return the quiz question\"\n",
        "      system_message_prompt=SystemMessagePromptTemplate.from_template(system_prompt)\n",
        "      human_prompt=\"{question_request}\"\n",
        "      human_message_prompt=HumanMessagePromptTemplate.from_template(human_prompt)\n",
        "      chat_prompt=ChatPromptTemplate.from_messages([system_message_prompt,human_message_prompt])\n",
        "      q=\"give me a quiz question where the correct answer is a specific date\";\n",
        "      request=chat_prompt.format_prompt(topic=topic,question_request=q).to_messages()\n",
        "      chat=ChatOpenAI()\n",
        "      result=chat(request)\n",
        "      return result.content\n",
        "\n",
        "    def get_AI_answer(self,question):\n",
        "        '''\n",
        "        This method should get the answer to the historical question from the method above.\n",
        "        Note: This answer must be in datetime format! Use DateTimeOutputParser to confirm!\n",
        "\n",
        "        September 2, 1945 --> datetime.datetime(1945, 9, 2, 0, 0)\n",
        "        '''\n",
        "        output_parser=DatetimeOutputParser()\n",
        "        system_template=\"You answer quiz questions with just a date\"\n",
        "        system_message_prompt=SystemMessagePromptTemplate.from_template(system_template)\n",
        "        human_template=\"Answer the user's question: {question} \\n{format_instructions}\"\n",
        "        human_message_prompt=HumanMessagePromptTemplate.from_template(human_template)\n",
        "        chat_prompt=ChatPromptTemplate.from_messages([system_template,human_template])\n",
        "        format_instructions=output_parser.get_format_instructions();\n",
        "        request=chat_prompt.format_prompt(question=question,format_instructions=format_instructions).to_messages()\n",
        "        chat=ChatOpenAI()\n",
        "        result=chat(request)\n",
        "        correct_datetime=result.content\n",
        "        return correct_datetime\n",
        "\n",
        "    def get_user_answer(self,question):\n",
        "        '''\n",
        "        This method should grab a user answer and convert it to datetime. It should collect a Year, Month, and Day.\n",
        "        You can just use input() for this.\n",
        "        '''\n",
        "        year=int(input(\"Enter the year:\"))\n",
        "        month=int(input(\"Enter the month:\"))\n",
        "        days=int(input(\"Enter the day:\"))\n",
        "        user_datetime=datetime(year,month,days)\n",
        "        return user_datetime\n",
        "\n",
        "\n",
        "        return user_datetime\n",
        "\n",
        "\n",
        "    def check_user_answer(self,user_answer,ai_answer):\n",
        "        '''\n",
        "        Should check the user answer against the AI answer and return the difference between them\n",
        "        '''\n",
        "        # print or return the difference between the answers here\n",
        "        difference=user_answer=ai_answer\n",
        "        formatted_difference=str(difference)\n",
        "        print(\"The difference between answer and your guess:\",formatted_difference);\n"
      ]
    },
    {
      "cell_type": "code",
      "execution_count": 5,
      "id": "937e4900-1148-4836-835b-dd2936b8e30e",
      "metadata": {
        "id": "937e4900-1148-4836-835b-dd2936b8e30e"
      },
      "outputs": [],
      "source": [
        "quiz_bot = HistoryQuiz()"
      ]
    },
    {
      "cell_type": "code",
      "execution_count": null,
      "id": "5dd56ef3-819d-4996-b9a5-1cfad88e5eed",
      "metadata": {
        "id": "5dd56ef3-819d-4996-b9a5-1cfad88e5eed"
      },
      "outputs": [],
      "source": [
        "question = quiz_bot.create_history_question(topic='World War 2')"
      ]
    },
    {
      "cell_type": "code",
      "execution_count": null,
      "id": "9eecb542-6018-4526-9f89-24f031468829",
      "metadata": {
        "id": "9eecb542-6018-4526-9f89-24f031468829",
        "outputId": "f1d3d8f7-c98a-4156-9fd0-76995505312e"
      },
      "outputs": [
        {
          "data": {
            "text/plain": [
              "'On what date did the United States officially enter World War II?'"
            ]
          },
          "execution_count": 37,
          "metadata": {},
          "output_type": "execute_result"
        }
      ],
      "source": [
        "question"
      ]
    },
    {
      "cell_type": "code",
      "execution_count": null,
      "id": "c86320ce-4497-4eb0-80f5-871736cb51e7",
      "metadata": {
        "id": "c86320ce-4497-4eb0-80f5-871736cb51e7"
      },
      "outputs": [],
      "source": [
        "ai_answer = quiz_bot.get_AI_answer(question)"
      ]
    },
    {
      "cell_type": "code",
      "execution_count": null,
      "id": "4be20b47-8287-4656-8253-1ec1c52fad43",
      "metadata": {
        "id": "4be20b47-8287-4656-8253-1ec1c52fad43",
        "outputId": "b56ff2d8-9805-4d15-bfb4-c5211e79db1b"
      },
      "outputs": [
        {
          "data": {
            "text/plain": [
              "datetime.datetime(1941, 12, 8, 0, 0)"
            ]
          },
          "execution_count": 39,
          "metadata": {},
          "output_type": "execute_result"
        }
      ],
      "source": [
        "# Day After Pearl Harbor\n",
        "ai_answer"
      ]
    },
    {
      "cell_type": "code",
      "execution_count": null,
      "id": "d8537e7e-b955-4ffd-84ba-a26d072b4a05",
      "metadata": {
        "id": "d8537e7e-b955-4ffd-84ba-a26d072b4a05",
        "outputId": "e8ecf5e2-ceae-4ae6-dbb3-b34c53327577"
      },
      "outputs": [
        {
          "name": "stdout",
          "output_type": "stream",
          "text": [
            "On what date did the United States officially enter World War II?\n"
          ]
        },
        {
          "name": "stdin",
          "output_type": "stream",
          "text": [
            "Enter the year:  1941\n",
            "Enter the month (1-12):  12\n",
            "Enter the day (1-31):  1\n"
          ]
        }
      ],
      "source": [
        "user_answer = quiz_bot.get_user_answer(question)"
      ]
    },
    {
      "cell_type": "code",
      "execution_count": null,
      "id": "e8eb40a9-789e-4666-81a6-a6a783dedaf6",
      "metadata": {
        "id": "e8eb40a9-789e-4666-81a6-a6a783dedaf6",
        "outputId": "26ff000e-d830-4e37-b7ed-669ed95e34bd"
      },
      "outputs": [
        {
          "data": {
            "text/plain": [
              "datetime.datetime(1941, 12, 1, 0, 0)"
            ]
          },
          "execution_count": 41,
          "metadata": {},
          "output_type": "execute_result"
        }
      ],
      "source": [
        "user_answer"
      ]
    },
    {
      "cell_type": "code",
      "execution_count": null,
      "id": "e22a7cf0-f199-4ace-a909-c73492e86e47",
      "metadata": {
        "id": "e22a7cf0-f199-4ace-a909-c73492e86e47",
        "outputId": "c578236c-6d6c-438d-adc6-006ddac78a1c"
      },
      "outputs": [
        {
          "name": "stdout",
          "output_type": "stream",
          "text": [
            "The difference between the dates is: -7 days, 0:00:00\n"
          ]
        }
      ],
      "source": [
        "quiz_bot.check_user_answer(user_answer,ai_answer)"
      ]
    }
  ],
  "metadata": {
    "kernelspec": {
      "display_name": "Python 3 (ipykernel)",
      "language": "python",
      "name": "python3"
    },
    "language_info": {
      "codemirror_mode": {
        "name": "ipython",
        "version": 3
      },
      "file_extension": ".py",
      "mimetype": "text/x-python",
      "name": "python",
      "nbconvert_exporter": "python",
      "pygments_lexer": "ipython3",
      "version": "3.9.12"
    },
    "colab": {
      "provenance": []
    }
  },
  "nbformat": 4,
  "nbformat_minor": 5
}